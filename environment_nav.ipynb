{
 "cells": [
  {
   "cell_type": "markdown",
   "metadata": {},
   "source": [
    "# CS 482: Environmental Navigation Project v.2\n",
    "\n",
    "In class we talked about the properties of light. One of the topics we discussed was how we could compute the scene lighting of a Lambertian object from its normals and its albedo (and assuming we know where the light is). This process is relatively \"simple\" once you understand what's going on. For a Lambertian object, the amount of light collected by a light source is proportional to the cosine of the angle between the surface and the light source. So, for every point on the surface $\\mathbf{x}$:\n",
    "\n",
    "$$ \\text{Observed Brightness}(\\mathbf{x}) = \\text{Albedo}(\\mathbf{x})\\cos(\\theta_\\mathbf{x}) = \\text{Albedo}(\\mathbf{x}) \\left[ \\hat{l} \\cdot \\hat{n}(\\mathbf{x}) \\right] $$\n",
    "\n",
    "where $\\hat{l}$ is the *light direction* (normalized) and $\\hat{n}(\\mathbf{x})$ is the *surface normal* at location $\\mathbf{x}$.\n",
    "\n",
    "For this breakout session, I have provided you with an *albedo matrix* `albedos` (of dimension $m \\times n$) and the accompanying *normals* `normals` (of dimension $m \\times n \\times 3$, where the normal vector at coordinate `i, j` is `normals[i, j]`).\n",
    "\n",
    "**TASK** Write a function `light_scene` that computes an $m \\times n$ \"lit scene\" image from (1) the albedos, (2) the normals, and (3) the light directions.\n",
    "\n",
    "I have provided you with both data and some partially-implemented functions for this process. If your `light_scene` function is implemented correctly, the `light_scene_interactive` function I have included below should instantiate an interactive widget with which you can move the light around with sliders and see the effect.\n",
    "\n",
    "**PLOTS** Include 4 different lightings of the \"bunny\" scene in your writeup.\n",
    "\n",
    "*Data and Images* from: \n",
    "- Buddah: https://courses.cs.washington.edu/courses/csep576/05wi/projects/project3/project3.htm\n",
    "- Scholar: http://vision.seas.harvard.edu/qsfs/Data.html"
   ]
  },
  {
   "cell_type": "code",
   "execution_count": null,
   "metadata": {},
   "outputs": [],
   "source": [
    "# Use a pipeline as a high-level helper\n",
    "from transformers import pipeline\n",
    "\n",
    "pipe = pipeline(\"depth-estimation\", model=\"vinvino02/glpn-nyu\")"
   ]
  },
  {
   "cell_type": "markdown",
   "metadata": {},
   "source": []
  }
 ],
 "metadata": {
  "language_info": {
   "name": "python"
  }
 },
 "nbformat": 4,
 "nbformat_minor": 2
}
